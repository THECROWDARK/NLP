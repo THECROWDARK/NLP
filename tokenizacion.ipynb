{
 "cells": [
  {
   "cell_type": "code",
   "execution_count": null,
   "id": "c8a765a4",
   "metadata": {},
   "outputs": [
    {
     "name": "stdout",
     "output_type": "stream",
     "text": [
      "['hola,', 'como', 'estas?']\n"
     ]
    }
   ],
   "source": [
    "texto = \"hola,  como estas?\"\n",
    "tokens= texto.split()\n",
    "print(tokens)"
   ]
  },
  {
   "cell_type": "code",
   "execution_count": 4,
   "id": "dc8620f3",
   "metadata": {},
   "outputs": [
    {
     "name": "stdout",
     "output_type": "stream",
     "text": [
      "Hola,  Como estas?\n",
      "hola,  como estas?\n",
      "['hola,', 'como', 'estas?']\n"
     ]
    }
   ],
   "source": [
    "texto = \"Hola,  Como estas?\"\n",
    "print(texto)\n",
    "texto = texto.lower()\n",
    "print(texto)\n",
    "tokens= texto.split()\n",
    "print(tokens)"
   ]
  },
  {
   "cell_type": "code",
   "execution_count": 26,
   "id": "2359db5a",
   "metadata": {},
   "outputs": [],
   "source": [
    "texto2 = \"El gato es negro y el perro es blanco, y se tira pedo\""
   ]
  },
  {
   "cell_type": "code",
   "execution_count": 15,
   "id": "74a5f770",
   "metadata": {},
   "outputs": [
    {
     "name": "stderr",
     "output_type": "stream",
     "text": [
      "[nltk_data] Downloading package stopwords to\n",
      "[nltk_data]     C:\\Users\\Usuario\\AppData\\Roaming\\nltk_data...\n",
      "[nltk_data]   Package stopwords is already up-to-date!\n"
     ]
    }
   ],
   "source": [
    "import nltk\n",
    "nltk.download('stopwords')\n",
    "from nltk.tokenize import word_tokenize\n",
    "from nltk.corpus import stopwords\n",
    "\n"
   ]
  },
  {
   "cell_type": "code",
   "execution_count": 14,
   "id": "0196fd4a",
   "metadata": {},
   "outputs": [
    {
     "name": "stdout",
     "output_type": "stream",
     "text": [
      "['de', 'la', 'que', 'el', 'en', 'y', 'a', 'los', 'del', 'se', 'las', 'por', 'un', 'para', 'con', 'no', 'una', 'su', 'al', 'lo', 'como', 'más', 'pero', 'sus', 'le', 'ya', 'o', 'este', 'sí', 'porque', 'esta', 'entre', 'cuando', 'muy', 'sin', 'sobre', 'también', 'me', 'hasta', 'hay', 'donde', 'quien', 'desde', 'todo', 'nos', 'durante', 'todos', 'uno', 'les', 'ni', 'contra', 'otros', 'ese', 'eso', 'ante', 'ellos', 'e', 'esto', 'mí', 'antes', 'algunos', 'qué', 'unos', 'yo', 'otro', 'otras', 'otra', 'él', 'tanto', 'esa', 'estos', 'mucho', 'quienes', 'nada', 'muchos', 'cual', 'poco', 'ella', 'estar', 'estas', 'algunas', 'algo', 'nosotros', 'mi', 'mis', 'tú', 'te', 'ti', 'tu', 'tus', 'ellas', 'nosotras', 'vosotros', 'vosotras', 'os', 'mío', 'mía', 'míos', 'mías', 'tuyo', 'tuya', 'tuyos', 'tuyas', 'suyo', 'suya', 'suyos', 'suyas', 'nuestro', 'nuestra', 'nuestros', 'nuestras', 'vuestro', 'vuestra', 'vuestros', 'vuestras', 'esos', 'esas', 'estoy', 'estás', 'está', 'estamos', 'estáis', 'están', 'esté', 'estés', 'estemos', 'estéis', 'estén', 'estaré', 'estarás', 'estará', 'estaremos', 'estaréis', 'estarán', 'estaría', 'estarías', 'estaríamos', 'estaríais', 'estarían', 'estaba', 'estabas', 'estábamos', 'estabais', 'estaban', 'estuve', 'estuviste', 'estuvo', 'estuvimos', 'estuvisteis', 'estuvieron', 'estuviera', 'estuvieras', 'estuviéramos', 'estuvierais', 'estuvieran', 'estuviese', 'estuvieses', 'estuviésemos', 'estuvieseis', 'estuviesen', 'estando', 'estado', 'estada', 'estados', 'estadas', 'estad', 'he', 'has', 'ha', 'hemos', 'habéis', 'han', 'haya', 'hayas', 'hayamos', 'hayáis', 'hayan', 'habré', 'habrás', 'habrá', 'habremos', 'habréis', 'habrán', 'habría', 'habrías', 'habríamos', 'habríais', 'habrían', 'había', 'habías', 'habíamos', 'habíais', 'habían', 'hube', 'hubiste', 'hubo', 'hubimos', 'hubisteis', 'hubieron', 'hubiera', 'hubieras', 'hubiéramos', 'hubierais', 'hubieran', 'hubiese', 'hubieses', 'hubiésemos', 'hubieseis', 'hubiesen', 'habiendo', 'habido', 'habida', 'habidos', 'habidas', 'soy', 'eres', 'es', 'somos', 'sois', 'son', 'sea', 'seas', 'seamos', 'seáis', 'sean', 'seré', 'serás', 'será', 'seremos', 'seréis', 'serán', 'sería', 'serías', 'seríamos', 'seríais', 'serían', 'era', 'eras', 'éramos', 'erais', 'eran', 'fui', 'fuiste', 'fue', 'fuimos', 'fuisteis', 'fueron', 'fuera', 'fueras', 'fuéramos', 'fuerais', 'fueran', 'fuese', 'fueses', 'fuésemos', 'fueseis', 'fuesen', 'sintiendo', 'sentido', 'sentida', 'sentidos', 'sentidas', 'siente', 'sentid', 'tengo', 'tienes', 'tiene', 'tenemos', 'tenéis', 'tienen', 'tenga', 'tengas', 'tengamos', 'tengáis', 'tengan', 'tendré', 'tendrás', 'tendrá', 'tendremos', 'tendréis', 'tendrán', 'tendría', 'tendrías', 'tendríamos', 'tendríais', 'tendrían', 'tenía', 'tenías', 'teníamos', 'teníais', 'tenían', 'tuve', 'tuviste', 'tuvo', 'tuvimos', 'tuvisteis', 'tuvieron', 'tuviera', 'tuvieras', 'tuviéramos', 'tuvierais', 'tuvieran', 'tuviese', 'tuvieses', 'tuviésemos', 'tuvieseis', 'tuviesen', 'teniendo', 'tenido', 'tenida', 'tenidos', 'tenidas', 'tened']\n"
     ]
    }
   ],
   "source": [
    "print(stopwords.words('spanish'))\n",
    "# conjunto [] lista es asi {}"
   ]
  },
  {
   "cell_type": "code",
   "execution_count": null,
   "id": "788ded7e",
   "metadata": {},
   "outputs": [
    {
     "name": "stdout",
     "output_type": "stream",
     "text": [
      "{'quienes', 'seas', 'tendrás', 'muchos', 'estuviste', 'sentidas', 'tuviéramos', 'o', 'sean', 'quien', 'sin', 'estos', 'habías', 'tuya', 'tuvieseis', 'erais', 'esos', 'hayan', 'fuéramos', 'fuera', 'había', 'tenemos', 'tendría', 'habrán', 'otra', 'esas', 'he', 'ella', 'los', 'hayáis', 'no', 'fue', 'el', 'una', 'tenían', 'tuvisteis', 'nosotros', 'vuestra', 'hayas', 'se', 'esta', 'mis', 'unos', 'habrías', 'estar', 'seré', 'habrás', 'eran', 'ante', 'nuestra', 'serán', 'seremos', 'vuestros', 'sobre', 'suyo', 'tuviste', 'pero', 'fueseis', 'tuvimos', 'otras', 'tendremos', 'ellos', 'le', 'tenga', 'qué', 'será', 'mucho', 'nada', 'algunas', 'era', 'estuvieron', 'habidos', 'fuiste', 'tenías', 'tuvieses', 'contra', 'tuyas', 'hubiésemos', 'tienes', 'estuviera', 'algunos', 'habida', 'mía', 'estoy', 'cuando', 'este', 'habrá', 'seáis', 'tuvieran', 'estabas', 'hubimos', 'estuviese', 'sois', 'vosotros', 'también', 'has', 'tengamos', 'estado', 'hubiera', 'eso', 'estuvieran', 'nosotras', 'hubierais', 'tenéis', 'hubiesen', 'sentidos', 'yo', 'durante', 'tuviesen', 'es', 'hubiéramos', 'estuviéramos', 'tendríamos', 'habidas', 'tendrá', 'hube', 'estará', 'estuviesen', 'teníamos', 'estuvieses', 'hubieron', 'estén', 'fuesen', 'ni', 'habríamos', 'seamos', 'antes', 'hubieran', 'estarías', 'hubieses', 'tened', 'estuvisteis', 'serías', 'habiendo', 'las', 'os', 'fueran', 'tú', 'estaréis', 'desde', 'estaré', 'e', 'estarás', 'tendré', 'haya', 'mío', 'en', 'tanto', 'tendrías', 'mí', 'tengan', 'hubo', 'tengáis', 'estuvieseis', 'hasta', 'tuvo', 'seríais', 'sí', 'siente', 'está', 'éramos', 'tuyos', 'me', 'fuimos', 'al', 'esté', 'tendrán', 'estéis', 'sentid', 'tuviésemos', 'tuyo', 'tendríais', 'muy', 'estuvimos', 'han', 'la', 'estuvieras', 'otro', 'a', 'teniendo', 'suya', 'estada', 'estáis', 'ti', 'todo', 'tengo', 'fuerais', 'suyas', 'tiene', 'estados', 'ellas', 'nuestras', 'eras', 'les', 'como', 'algo', 'tenida', 'estuvierais', 'suyos', 'uno', 'estaríais', 'cual', 'fuese', 'estábamos', 'ha', 'nuestro', 'tendrían', 'habido', 'sentida', 'tenía', 'fui', 'seríamos', 'mi', 'esto', 'estaría', 'estaba', 'tuviera', 'serían', 'soy', 'tu', 'tuve', 'estad', 'de', 'porque', 'míos', 'tuvieras', 'tenidos', 'habréis', 'donde', 'estaríamos', 'y', 'sus', 'para', 'tus', 'tienen', 'estuvo', 'somos', 'hubiste', 'hubisteis', 'tengas', 'serás', 'otros', 'mías', 'habíamos', 'fuisteis', 'fueses', 'hay', 'tuviese', 'él', 'estando', 'ya', 'vuestras', 'estas', 'fuésemos', 'habré', 'poco', 'estuve', 'hayamos', 'hubieseis', 'habrían', 'tuvierais', 'vosotras', 'estarían', 'tuvieron', 'ese', 'estuviésemos', 'más', 'fueron', 'nos', 'del', 'seréis', 'hemos', 'tendréis', 'que', 'vuestro', 'por', 'habría', 'entre', 'sintiendo', 'estamos', 'tenido', 'eres', 'habían', 'son', 'estaban', 'esa', 'sería', 'habremos', 'estaremos', 'su', 'un', 'estemos', 'estadas', 'hubiese', 'habríais', 'tenidas', 'con', 'fueras', 'estarán', 'estabais', 'lo', 'estés', 'todos', 'nuestros', 'habéis', 'sentido', 'te', 'habíais', 'sea', 'hubieras', 'están', 'teníais', 'estás'}\n"
     ]
    }
   ],
   "source": [
    "stop_words = set(stopwords.words('spanish'))\n",
    "print(stop_words)"
   ]
  },
  {
   "cell_type": "code",
   "execution_count": 18,
   "id": "d297c457",
   "metadata": {},
   "outputs": [
    {
     "name": "stderr",
     "output_type": "stream",
     "text": [
      "[nltk_data] Downloading package punkt_tab to\n",
      "[nltk_data]     C:\\Users\\Usuario\\AppData\\Roaming\\nltk_data...\n",
      "[nltk_data]   Unzipping tokenizers\\punkt_tab.zip.\n"
     ]
    },
    {
     "data": {
      "text/plain": [
       "True"
      ]
     },
     "execution_count": 18,
     "metadata": {},
     "output_type": "execute_result"
    }
   ],
   "source": [
    "nltk.download('punkt_tab')\n"
   ]
  },
  {
   "cell_type": "code",
   "execution_count": 28,
   "id": "c149692f",
   "metadata": {},
   "outputs": [],
   "source": [
    "texto2 = texto2.lower()"
   ]
  },
  {
   "cell_type": "code",
   "execution_count": 29,
   "id": "c16a52f3",
   "metadata": {},
   "outputs": [
    {
     "name": "stdout",
     "output_type": "stream",
     "text": [
      "['el', 'gato', 'es', 'negro', 'y', 'el', 'perro', 'es', 'blanco', ',', 'y', 'se', 'tira', 'pedo']\n"
     ]
    }
   ],
   "source": [
    "tokens = word_tokenize(texto2)\n",
    "print(tokens)"
   ]
  },
  {
   "cell_type": "code",
   "execution_count": 30,
   "id": "5fd33f10",
   "metadata": {},
   "outputs": [],
   "source": [
    "# filtrado = gato negro perro blanco , tira pedo\n",
    "filtrado = []\n",
    "for i  in tokens:\n",
    "    if i not in stop_words:\n",
    "        filtrado.append(i)"
   ]
  },
  {
   "cell_type": "code",
   "execution_count": 32,
   "id": "f566539f",
   "metadata": {},
   "outputs": [
    {
     "name": "stdout",
     "output_type": "stream",
     "text": [
      "['gato', 'negro', 'perro', 'blanco', ',', 'tira', 'pedo']\n"
     ]
    }
   ],
   "source": [
    "print (filtrado)"
   ]
  },
  {
   "cell_type": "code",
   "execution_count": 33,
   "id": "88db4918",
   "metadata": {},
   "outputs": [],
   "source": [
    "filtrado = [i for i  in tokens if i not in stop_words ]"
   ]
  },
  {
   "cell_type": "code",
   "execution_count": 34,
   "id": "033e7399",
   "metadata": {},
   "outputs": [
    {
     "name": "stdout",
     "output_type": "stream",
     "text": [
      "['gato', 'negro', 'perro', 'blanco', ',', 'tira', 'pedo']\n"
     ]
    }
   ],
   "source": [
    "print (filtrado)"
   ]
  },
  {
   "cell_type": "code",
   "execution_count": 35,
   "id": "255aa5be",
   "metadata": {},
   "outputs": [
    {
     "name": "stderr",
     "output_type": "stream",
     "text": [
      "[nltk_data] Downloading package wordnet to\n",
      "[nltk_data]     C:\\Users\\Usuario\\AppData\\Roaming\\nltk_data...\n"
     ]
    },
    {
     "data": {
      "text/plain": [
       "True"
      ]
     },
     "execution_count": 35,
     "metadata": {},
     "output_type": "execute_result"
    }
   ],
   "source": [
    "nltk.download('wordnet')"
   ]
  },
  {
   "cell_type": "code",
   "execution_count": null,
   "id": "a1194ede",
   "metadata": {},
   "outputs": [],
   "source": []
  }
 ],
 "metadata": {
  "kernelspec": {
   "display_name": "venv",
   "language": "python",
   "name": "python3"
  },
  "language_info": {
   "codemirror_mode": {
    "name": "ipython",
    "version": 3
   },
   "file_extension": ".py",
   "mimetype": "text/x-python",
   "name": "python",
   "nbconvert_exporter": "python",
   "pygments_lexer": "ipython3",
   "version": "3.13.2"
  }
 },
 "nbformat": 4,
 "nbformat_minor": 5
}
